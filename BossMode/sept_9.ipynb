{
 "cells": [
  {
   "cell_type": "markdown",
   "source": [
    "You are given an integer `n`. You have an `n x n` binary grid grid with all values initially 1's except for some indices given in the array mines. The `i`th element of the array mines is defined as `mines[i] = [xi, yi]` where `grid[xi][yi] == 0`.\r\n",
    "\r\n",
    "Return the order of the largest axis-aligned plus sign of 1's contained in grid. If there is `none`, `return 0`.\r\n",
    "\r\n",
    "An axis-aligned plus sign of 1's of order `k` has some center `grid[r][c] == 1` along with four arms of length `k - 1` going up, down, left, and right, and made of 1's. Note that there could be 0's or 1's beyond the arms of the plus sign, only the relevant area of the plus sign is checked for 1's.\r\n",
    "\r\n",
    " "
   ],
   "metadata": {}
  },
  {
   "cell_type": "code",
   "execution_count": null,
   "source": [
    "class Solution:\r\n",
    "    def orderOfLargestPlusSign(self, n: int, mines: List[List[int]]) -> int:\r\n",
    "        m=len(mines)\r\n",
    "\r\n",
    "        if m==n*n: return 0\r\n",
    "        \r\n",
    "        vis=set()\r\n",
    "        \r\n",
    "        for i,j in mines:\r\n",
    "            vis.add((i,j))   # mark all Zeroes\r\n",
    "        ans=1\r\n",
    "\r\n",
    "        # left, right , up , down...\r\n",
    "        lurd=[[[0,0,0,0] for _ in range(n)] for _ in range(n)]\r\n",
    "        \r\n",
    "        for i in range(n):\r\n",
    "            for j in range(n):\r\n",
    "\r\n",
    "                if (i,j) not in vis:\r\n",
    "                     # check left and up from 0-n\r\n",
    "        \r\n",
    "                    lurd[i][j][0]=(lurd[i][j-1][0]+1) if j-1>=0 else 1   \r\n",
    "                    lurd[i][j][1]=(lurd[i-1][j][1]+1) if i-1>=0 else 1\r\n",
    "        \r\n",
    "        for i in range(n-1,-1,-1):\r\n",
    "            for j in range(n-1,-1,-1):\r\n",
    "\r\n",
    "                if (i,j) not in vis:\r\n",
    "                         # check right and down from n-1 to 0 \r\n",
    "                    lurd[i][j][2]=(lurd[i][j+1][2]+1) if j+1<n else 1\r\n",
    "                    lurd[i][j][3]=(lurd[i+1][j][3]+1) if i+1<n else 1\r\n",
    "\r\n",
    "                ans=max(ans,min(lurd[i][j]))\r\n",
    "        return ans"
   ],
   "outputs": [],
   "metadata": {}
  },
  {
   "cell_type": "markdown",
   "source": [
    "> # Explanation\r\n",
    "\r\n",
    "we mark all mines in the set.\r\n",
    "we update left-up-right-down [lurd] to update the size of +"
   ],
   "metadata": {}
  }
 ],
 "metadata": {
  "orig_nbformat": 4,
  "language_info": {
   "name": "python"
  }
 },
 "nbformat": 4,
 "nbformat_minor": 2
}