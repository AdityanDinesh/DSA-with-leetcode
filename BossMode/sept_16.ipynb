{
 "cells": [
  {
   "cell_type": "markdown",
   "source": [
    "![img](./1.png)"
   ],
   "metadata": {}
  },
  {
   "cell_type": "code",
   "execution_count": null,
   "source": [
    "class Solution:\r\n",
    "    def spiralOrder(self, matrix):\r\n",
    "        n, m = len(matrix[0]), len(matrix)\r\n",
    "        i, j, lr, ud = 0, 0, 1, 0\r\n",
    "        ans = []\r\n",
    "        for _ in range(m*n):\r\n",
    "            if i+lr >= n or  j+ud >= m or matrix[j+ud][i+lr] == \"0\":\r\n",
    "                lr, ud = -ud, lr\r\n",
    "                \r\n",
    "            ans.append(matrix[j][i])\r\n",
    "            matrix[j][i] = \"0\"\r\n",
    "            i, j = i + lr, j + ud\r\n",
    "        \r\n",
    "        return ans\r\n",
    "        "
   ],
   "outputs": [],
   "metadata": {}
  },
  {
   "cell_type": "markdown",
   "source": [
    "Explanation:\r\n",
    "\r\n",
    "lr = leftright\r\n",
    "ud = updown\r\n",
    "so when we hit an end we turn direction\r\n",
    "also update all visited array elems as 0\r\n"
   ],
   "metadata": {}
  }
 ],
 "metadata": {
  "orig_nbformat": 4,
  "language_info": {
   "name": "python"
  }
 },
 "nbformat": 4,
 "nbformat_minor": 2
}