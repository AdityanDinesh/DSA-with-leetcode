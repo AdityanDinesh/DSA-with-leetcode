{
 "cells": [
  {
   "cell_type": "markdown",
   "metadata": {},
   "source": [
    "## Surrounded Regions November 1\n",
    "\n",
    "<pre>Given an m x n matrix board containing 'X' and 'O', capture all regions that are 4-directionally surrounded by 'X'.\n",
    "A region is captured by flipping all 'O's into 'X's in that surrounded region.\n",
    "Surrounded regions should not be on the border, which means that any 'O' on the border of the board are not flipped to 'X'. Any 'O' that is not on the border \n",
    "and it is not connected to an 'O' on the border will be flipped to 'X'. Two cells are connected if they are adjacent cells connected horizontally or vertically.<pre>"
   ]
  },
  {
   "cell_type": "markdown",
   "metadata": {},
   "source": [
    "## solution\n"
   ]
  },
  {
   "cell_type": "code",
   "execution_count": null,
   "metadata": {},
   "outputs": [],
   "source": [
    "class Solution:\n",
    "    def solve(self, board: List[List[str]]) -> None:\n",
    "\t    n, m = len(board), len(board[0])\n",
    "\n",
    "\t# nothing to do, all cells are on the edges\n",
    "\t    if n<3 or m<3:            \n",
    "\t\t    return\n",
    "\n",
    "\t    def check(i, j):\n",
    "\t\t    \"\"\" Mark all reachable Os from (i, j) as 1 \"\"\"\n",
    "\t\t    tocheck = {(i, j)}\n",
    "\t\t    while tocheck:\n",
    "\t\t\t    i, j = tocheck.pop()\n",
    "\t\t\t    board[i][j] = 1\n",
    "\t\t\t    tocheck.update([(r, c) for r, c in ((i+1, j), (i-1, j), (i, j-1), (i, j+1)) if 0<=r<n and 0<=c<m and board[r][c]=='O'])\n",
    "\n",
    "\t# Check left and right edges of the board\n",
    "\t    for i, row in enumerate(board):\n",
    "\t\t    if row[0] == 'O':\n",
    "\t\t\t    check(i, 0)\n",
    "\t\t    if row[m-1] == 'O':\n",
    "\t\t\t    check(i, m-1)\n",
    "\n",
    "\t# Check top and bottom edges of the board (excluding corners)\n",
    "\t    for j in range(1, m - 1):\n",
    "\t\t    if board[0][j] == 'O':\n",
    "\t\t\t    check(0, j)\n",
    "\t\t    if board[n-1][j] == 'O':\n",
    "\t\t\t    check(n-1, j)\n",
    "\n",
    "\t# Iterate through the board, flip all 'O' cells to 'X' and revert 1 cells to 'O'\n",
    "\t    for row in board:\n",
    "\t\t    for j, cell in enumerate(row):\n",
    "\t\t\t    if cell == 'O':\n",
    "\t\t\t\t    row[j] = 'X'\n",
    "\t\t\t    elif cell == 1:\n",
    "\t\t\t\t    row[j] = 'O'"
   ]
  }
 ],
 "metadata": {
  "language_info": {
   "name": "python"
  },
  "orig_nbformat": 4
 },
 "nbformat": 4,
 "nbformat_minor": 2
}
