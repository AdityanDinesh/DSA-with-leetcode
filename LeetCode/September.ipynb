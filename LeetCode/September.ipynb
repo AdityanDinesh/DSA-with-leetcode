{
 "metadata": {
  "language_info": {
   "codemirror_mode": {
    "name": "ipython",
    "version": 3
   },
   "file_extension": ".py",
   "mimetype": "text/x-python",
   "name": "python",
   "nbconvert_exporter": "python",
   "pygments_lexer": "ipython3",
   "version": 3
  },
  "orig_nbformat": 4
 },
 "nbformat": 4,
 "nbformat_minor": 2,
 "cells": [
  {
   "cell_type": "markdown",
   "source": [
    "> # Sept_1rst - Array Nesting\n",
    "\n",
    "You are given an integer array `nums` of length `n` where nums is a permutation of the numbers in the `range [0, n - 1]`.\n",
    "\n",
    "You should build a set `s[k] = {nums[k], nums[nums[k]], nums nums[nums[k]]], ... }` subjected to the following rule:\n",
    "\n",
    "The first element in `s[k]` starts with the selection of the element `nums[k]` of `index = k`.\n",
    "The next element in `s[k]` should be `nums[nums[k]]`, and then `nums[nums[nums[k]]]`, and so on.\n",
    "We stop adding right before a duplicate element occurs in `s[k]`.\n",
    "\n",
    "Return the longest length of a set `s[k]`."
   ],
   "metadata": {}
  },
  {
   "cell_type": "code",
   "execution_count": null,
   "source": [
    "class Solution:\r\n",
    "    def arrayNesting(self, nums: List[int]) -> int:\r\n",
    "        n = len(nums)\r\n",
    "        res = 1\r\n",
    "        for i in range(n):\r\n",
    "            j = 0            # j is the current length of the sequence\r\n",
    "            while nums[i]!= -1: \r\n",
    "                temp = i   \r\n",
    "                j+=1         # update j \r\n",
    "                i = nums[i]  # goes to nums[nums[i]]\r\n",
    "                nums[temp] = -1 # mark visited\r\n",
    "            res = max(res,j) \r\n",
    "        return res"
   ],
   "outputs": [],
   "metadata": {}
  },
  {
   "cell_type": "markdown",
   "source": [
    "> # SEPT_2nd - Unique Binary Search Trees II\r\n",
    "\r\n",
    "Given an integer `n`, return all the structurally unique BST's (binary search trees), which has exactly `n` nodes of unique values from `1` to `n`. Return the answer in any order.\r\n"
   ],
   "metadata": {}
  },
  {
   "cell_type": "code",
   "execution_count": null,
   "source": [
    "# Definition for a binary tree node.\r\n",
    "# class TreeNode:\r\n",
    "#     def __init__(self, val=0, left=None, right=None):\r\n",
    "#         self.val = val\r\n",
    "#         self.left = left\r\n",
    "#         self.right = right\r\n",
    "class Solution:\r\n",
    "    def generateTrees(self, n: int) -> List[Optional[TreeNode]]:\r\n",
    "        def formtree(start,end): \r\n",
    "            if start==end: return None   # to check if the tree is empty\r\n",
    "            res=[]                       \r\n",
    "            for i in range(start,end):      # loop each number \r\n",
    "                for l in formtree(start,i) or [None]:  # form to the left of the tree i.e. for numbers less than the selected number\r\n",
    "                    for r in formtree(i+1,end) or [None]: # form to the right of the tree i.e. for numbers greater than the selected number\r\n",
    "                        node= TreeNode(i)   # create a node\r\n",
    "                        node.left=l     \r\n",
    "                        node.right=r\r\n",
    "                        res.append(node)\r\n",
    "            return res\r\n",
    "        return formtree(1,n+1)\r\n",
    "        "
   ],
   "outputs": [],
   "metadata": {}
  },
  {
   "cell_type": "markdown",
   "source": [
    "> # SEPT_6nd - Slowest Key\r\n",
    "\r\n",
    "A newly designed keypad was tested, where a tester pressed a sequence of `n` keys, one at a time.\r\n",
    "\r\n",
    "You are given a string `keysPressed` of length `n`, where `keysPressed[i]` was the `i`th key pressed in the testing sequence, and a sorted list `releaseTimes`, where `releaseTimes[i]` was the time the `i`th key was released. Both arrays are **0-indexed**. The `0`th key was pressed at the time `0`, and every subsequent key was pressed at the **exact** time the previous key was released.\r\n",
    "\r\n",
    "The tester wants to know the key of the keypress that had the **longest duration**. The `i`th keypress had a **duration** of `releaseTimes[i] - releaseTimes[i - 1]`, and the `0`th keypress had a duration of `releaseTimes[0]`.\r\n",
    "\r\n",
    "Note that the same key could have been pressed multiple times during the test, and these multiple presses of the same key may not have had the same duration.\r\n",
    "\r\n",
    "Return the key of the keypress that had the longest duration. If there are multiple such keypresses, return the lexicographically largest key of the keypresses."
   ],
   "metadata": {}
  },
  {
   "cell_type": "markdown",
   "source": [
    "## Solution"
   ],
   "metadata": {}
  },
  {
   "cell_type": "code",
   "execution_count": null,
   "source": [
    "class Solution:\r\n",
    "    def slowestKey(self, releaseTimes: List[int], keysPressed: str) -> str:\r\n",
    "        finkey=keysPressed[0]\r\n",
    "        fintime=releaseTimes[0]\r\n",
    "        for i in range(1,len(releaseTimes)):\r\n",
    "            reltime=releaseTimes[i]-releaseTimes[i-1]\r\n",
    "            key=keysPressed[i]\r\n",
    "\r\n",
    "            if reltime>fintime or (reltime==fintime and key>finkey):\r\n",
    "                fintime=reltime \r\n",
    "                finkey=key  \r\n",
    "        return finkey\r\n",
    "\r\n"
   ],
   "outputs": [],
   "metadata": {}
  },
  {
   "cell_type": "markdown",
   "source": [
    "## EXPLANATION\r\n",
    "\r\n",
    "first we travel through the array. according to the conditon mentioned in the question if releaseTimes[i] - releaseTimes[i - 1] > current biggest  suration, then we update the biggest duration and the Key pressed. \r\n",
    "If it is equal to the current biggest duration, then we check if the current key pressed is lexicographically bigger than the previous key pressed.\r\n",
    " \r\n",
    "Lexicographically bigger means that the current key pressed is bigger than the previous key pressed.Eg c is bigger than b."
   ],
   "metadata": {}
  },
  {
   "cell_type": "markdown",
   "source": [
    "> # SEPT_7th - Reversed linked list\r\n",
    "\r\n",
    "Given the `head` of a singly linked list, reverse the list, and return the reversed list."
   ],
   "metadata": {}
  },
  {
   "cell_type": "markdown",
   "source": [
    "## Solution"
   ],
   "metadata": {}
  },
  {
   "cell_type": "code",
   "execution_count": null,
   "source": [
    "class ListNode:\r\n",
    "    def __init__(self, val=0, next=None):\r\n",
    "        self.val = val\r\n",
    "        self.next = next\r\n",
    "class Solution:\r\n",
    "    def reverseList(self, head: Optional[ListNode]) -> Optional[ListNode]:\r\n",
    "        newhead= ListNode()\r\n",
    "        def linkofthelink(orig,rev):\r\n",
    "            stack=[]\r\n",
    "            temp=orig\r\n",
    "            while temp:\r\n",
    "                stack.append(temp)\r\n",
    "                temp=temp.next\r\n",
    "            \r\n",
    "            temp=stack.pop()\r\n",
    "            rev=temp\r\n",
    "            \r\n",
    "            while stack:\r\n",
    "                i=stack.pop()  \r\n",
    "                temp.next=i    \r\n",
    "                temp= temp.next\r\n",
    "            \r\n",
    "            temp.next = None     \r\n",
    "            return rev\r\n",
    "\r\n",
    "        if head:\r\n",
    "            newhead = linkofthelink(head,newhead)\r\n",
    "            return newhead\r\n",
    "        else: \r\n",
    "            return None\r\n",
    "\r\n",
    "            "
   ],
   "outputs": [],
   "metadata": {}
  },
  {
   "cell_type": "markdown",
   "source": [
    "## EXPLANATION\r\n",
    "\r\n",
    "Here we store the values as a stack. so the last element is in top of the stack.\r\n",
    "now we pop the stack and link it to the head of the new reversed pointer."
   ],
   "metadata": {}
  },
  {
   "cell_type": "markdown",
   "source": [
    "> # Sept_11 - Basic Calculator\r\n",
    "\r\n",
    "Given a string s representing a valid expression, implement a basic calculator to evaluate it, and return the result of the evaluation.\r\n",
    "\r\n",
    "Note: You are not allowed to use any built-in function which evaluates strings as mathematical expressions, such as eval().\r\n",
    "\r\n",
    "this qstn is pretty simple and straight forward......"
   ],
   "metadata": {}
  },
  {
   "cell_type": "code",
   "execution_count": null,
   "source": [
    "class Solution:\r\n",
    "    def calculate(self, s):    \r\n",
    "        def calc(tmp):\r\n",
    "            def update(op, v):\r\n",
    "                if op == \"+\": stack.append(v)\r\n",
    "                if op == \"-\": stack.append(-v)\r\n",
    "                if op == \"*\": stack.append(stack.pop() * v)\r\n",
    "                if op == \"/\": stack.append(int(stack.pop() / v))\r\n",
    "        \r\n",
    "            num, stack, sign = 0, [], \"+\"\r\n",
    "            \r\n",
    "            while tmp < len(s):\r\n",
    "                if s[tmp].isdigit():\r\n",
    "                    num = num * 10 + int(s[tmp])\r\n",
    "                elif s[tmp] in \"+-*/\":\r\n",
    "                    update(sign, num)\r\n",
    "                    num, sign = 0, s[tmp]\r\n",
    "                elif s[tmp] == \"(\":\r\n",
    "                    num, j = calc(tmp + 1)\r\n",
    "                    tmp = j - 1\r\n",
    "                elif s[tmp] == \")\":\r\n",
    "                    update(sign, num)\r\n",
    "                    return sum(stack), tmp + 1\r\n",
    "                tmp += 1\r\n",
    "            update(sign, num)\r\n",
    "            return sum(stack)\r\n",
    "\r\n",
    "        return calc(0)\r\n"
   ],
   "outputs": [],
   "metadata": {}
  }
 ]
}