{
 "metadata": {
  "language_info": {
   "codemirror_mode": {
    "name": "ipython",
    "version": 3
   },
   "file_extension": ".py",
   "mimetype": "text/x-python",
   "name": "python",
   "nbconvert_exporter": "python",
   "pygments_lexer": "ipython3",
   "version": 3
  },
  "orig_nbformat": 4
 },
 "nbformat": 4,
 "nbformat_minor": 2,
 "cells": [
  {
   "source": [
    "> # Sept_1rst - Array Nesting\n",
    "\n",
    "You are given an integer array `nums` of length `n` where nums is a permutation of the numbers in the `range [0, n - 1]`.\n",
    "\n",
    "You should build a set `s[k] = {nums[k], nums[nums[k]], nums nums[nums[k]]], ... }` subjected to the following rule:\n",
    "\n",
    "The first element in `s[k]` starts with the selection of the element `nums[k]` of `index = k`.\n",
    "The next element in `s[k]` should be `nums[nums[k]]`, and then `nums[nums[nums[k]]]`, and so on.\n",
    "We stop adding right before a duplicate element occurs in `s[k]`.\n",
    "\n",
    "Return the longest length of a set `s[k]`."
   ],
   "cell_type": "markdown",
   "metadata": {}
  },
  {
   "cell_type": "code",
   "execution_count": null,
   "metadata": {},
   "outputs": [],
   "source": [
    "class Solution:\n",
    "    def arrayNesting(self, nums: List[int]) -> int:\n",
    "        n = len(nums)\n",
    "        res = 1\n",
    "        for i in range(n):\n",
    "            j = 0            # j is the current length of the sequence\n",
    "            while nums[i]!= -1: \n",
    "                temp = i   \n",
    "                j+=1         # update j \n",
    "                i = nums[i]  # goes to nums[nums[i]]\n",
    "                nums[temp] = -1 # mark visited\n",
    "            res = max(res,j) \n",
    "        return res"
   ]
  }
 ]
}