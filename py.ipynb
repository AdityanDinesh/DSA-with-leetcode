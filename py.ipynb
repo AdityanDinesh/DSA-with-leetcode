{
 "metadata": {
  "language_info": {
   "codemirror_mode": {
    "name": "ipython",
    "version": 3
   },
   "file_extension": ".py",
   "mimetype": "text/x-python",
   "name": "python",
   "nbconvert_exporter": "python",
   "pygments_lexer": "ipython3",
   "version": "3.8.5"
  },
  "orig_nbformat": 2,
  "kernelspec": {
   "name": "python3",
   "display_name": "Python 3",
   "language": "python"
  }
 },
 "nbformat": 4,
 "nbformat_minor": 2,
 "cells": [
  {
   "source": [
    "from itertools import combinations\n",
    "def substring(str):  \n",
    "    res = [str[x:y] for x, y in combinations(range(len(str) + 1), r = 2)]\n",
    "    "
   ],
   "cell_type": "markdown",
   "metadata": {}
  },
  {
   "source": [
    "\n",
    "def function(str,n):\n",
    "    hash={0:1}\n",
    "    x=0\n",
    "    count=0\n",
    "    for i in str:\n",
    "        print(ord(i)-97,\" \",1<<ord(i)-97) \n",
    "        x ^= (1 << ord(i)-97)\n",
    "        print(i,\" \",x)\n",
    "        print(\"printed:\",hash.get(x,0))\n",
    "        count +=hash.get(x,0)\n",
    "        hash[x]= hash.get(x,0)+1\n",
    "        print(\"check:\",hash[x])\n",
    "    return count\n",
    "\n",
    "s=\"abbaa\"\n",
    "n=len(s)\n",
    "print(function(s,n))\n",
    "    "
   ],
   "cell_type": "code",
   "metadata": {},
   "execution_count": 21,
   "outputs": [
    {
     "output_type": "stream",
     "name": "stdout",
     "text": [
      "0   1\na   1\nprinted: 0\ncheck: 1\n1   2\nb   3\nprinted: 0\ncheck: 1\n1   2\nb   1\nprinted: 1\ncheck: 2\n0   1\na   0\nprinted: 1\ncheck: 2\n0   1\na   1\nprinted: 2\ncheck: 3\n4\n"
     ]
    }
   ]
  },
  {
   "cell_type": "code",
   "execution_count": 9,
   "metadata": {},
   "outputs": [
    {
     "output_type": "error",
     "ename": "SyntaxError",
     "evalue": "invalid syntax (<ipython-input-9-bae333d6ff14>, line 1)",
     "traceback": [
      "\u001b[0;36m  File \u001b[0;32m\"<ipython-input-9-bae333d6ff14>\"\u001b[0;36m, line \u001b[0;32m1\u001b[0m\n\u001b[0;31m    abba aa bb bbaa\u001b[0m\n\u001b[0m         ^\u001b[0m\n\u001b[0;31mSyntaxError\u001b[0m\u001b[0;31m:\u001b[0m invalid syntax\n"
     ]
    }
   ],
   "source": [
    "abba aa bb bbaa\n",
    "11101101\n",
    "00111100\n",
    "00101100\n",
    "\n"
   ]
  },
  {
   "cell_type": "code",
   "execution_count": null,
   "metadata": {},
   "outputs": [],
   "source": [
    "1-N\n",
    "{N}\n",
    "N - mask\n",
    "a b c d e f g h \n",
    "\n",
    " {c,d}\n",
    "0 0 1 1 0 0 0 0\n"
   ]
  },
  {
   "cell_type": "code",
   "execution_count": null,
   "metadata": {},
   "outputs": [],
   "source": [
    "myaavut = int(input())\n",
    "\n",
    "for i in range(t):\n",
    "    ans = 0\n",
    "    n = int(input())\n",
    "\n",
    "    a = list(map(int, input().split()))\n",
    "\n",
    "    Min = a.index(min(a)) + 1\n",
    "    Max = a.index(max(a)) + 1\n",
    "    # print(Min, Max)\n",
    "\n",
    "    x = max(Min, Max)\n",
    "    y = min(Min, Max)\n",
    "    ans = min(x, n-y+1, n-x+y+1)\n",
    "\n",
    "    print(ans)"
   ]
  },
  {
   "cell_type": "code",
   "execution_count": null,
   "metadata": {},
   "outputs": [],
   "source": []
  },
  {
   "source": [
    "FINDIN LONGEST INCREASING SUBSEQUENCE:\n"
   ],
   "cell_type": "markdown",
   "metadata": {}
  },
  {
   "cell_type": "code",
   "execution_count": null,
   "metadata": {},
   "outputs": [],
   "source": [
    "    def lengthOfLIS(self, nums: List[int]) -> int:\n",
    "        sub = []\n",
    "        for num in nums:\n",
    "            i = bisect_left(sub, num)\n",
    "            if i == len(sub):\n",
    "                sub.append(num)\n",
    "            else:\n",
    "                sub[i] = num\n",
    "        return len(sub)\n"
   ]
  }
 ]
}